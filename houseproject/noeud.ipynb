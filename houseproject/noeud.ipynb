{
 "cells": [
  {
   "cell_type": "code",
   "execution_count": null,
   "metadata": {},
   "outputs": [],
   "source": [
    "dataset = pd.read_csv(\"data/house_data.csv\")\n",
    "        \n",
    "df_quartier = dataset[dataset[\"quarter_code_id\"] == quarter_code]\n",
    "df_quartier = df_quartier.drop(['quarter_code_id'], axis=1)\n",
    "        \n",
    "df_type = df_quartier[df_quartier[\"type_property_code_id\"] == type_property_code]\n",
    "df_type = df_type.drop(columns=['type_property_code_id'], axis=1)\n",
    "\n",
    "df_quality = df_type[df_type[\"state\"] == state]\n",
    "df_quality = df_quality.drop(columns=['state'], axis=1)\n",
    "\n",
    "df_furnished = df_quality[df_quality[\"is_furnished\"] == is_furnished]\n",
    "df_furnished = df_furnished.drop(columns=['is_furnished'], axis=1)\n",
    "# print(df_furnished.info())\n",
    "\n",
    "        \n",
    "df_set = df_furnished.drop(columns=['rental'], axis=1)\n",
    "df_set  = df_set.dropna()\n",
    "\n",
    "prices = df_set.price.values\n",
    "matrice_mere = df_set.loc[:, df_set.columns != 'price'].values\n",
    "print(df_set)\n",
    "\n",
    "X_train,X_test,y_train,y_test = train_test_split(matrice_mere, prices, test_size=0.2)  \n",
    "    \n",
    "# Model by machine learning linear regression method\n",
    "linearmodel = LinearRegression()\n",
    "linearmodel.fit(X_train, y_train)\n",
    "prediction = linearmodel.predict(X_test)\n",
    "     "
   ]
  },
  {
   "cell_type": "code",
   "execution_count": null,
   "metadata": {},
   "outputs": [],
   "source": [
    "# Pie chart, where the slices will be ordered and plotted counter-clockwise:\n",
    "labels = land_df.type_zone.unique()\n",
    "sizes = land_df.type_zone.value_counts()\n",
    "explode = (0.1, 0, 0)  # only \"explode\" the 2nd slice (i.e. 'Hogs')\n",
    "\n",
    "fig1, ax1 = plt.subplots()\n",
    "ax1.pie(sizes, explode=explode, labels=labels, autopct='%1.1f%%',\n",
    "        shadow=True, startangle=90)\n",
    "ax1.axis('equal')  # Equal aspect ratio ensures that pie is drawn as a circle.\n",
    "\n",
    "plt.show()"
   ]
  }
 ],
 "metadata": {
  "kernelspec": {
   "display_name": "projet_env",
   "language": "python",
   "name": "python3"
  },
  "language_info": {
   "codemirror_mode": {
    "name": "ipython",
    "version": 3
   },
   "file_extension": ".py",
   "mimetype": "text/x-python",
   "name": "python",
   "nbconvert_exporter": "python",
   "pygments_lexer": "ipython3",
   "version": "3.12.2"
  }
 },
 "nbformat": 4,
 "nbformat_minor": 2
}
